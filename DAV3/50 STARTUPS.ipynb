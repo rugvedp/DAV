{
 "cells": [
  {
   "cell_type": "code",
   "execution_count": 2,
   "id": "1ac9bdb2-f92a-4035-974f-d10a1853ae64",
   "metadata": {},
   "outputs": [
    {
     "name": "stdout",
     "output_type": "stream",
     "text": [
      "Training RMSE: 8927.489013300055\n",
      "Testing RMSE: 9055.957323454835\n"
     ]
    }
   ],
   "source": [
    "import pandas as pd\n",
    "from sklearn.model_selection import train_test_split\n",
    "from sklearn.linear_model import LinearRegression\n",
    "from sklearn.compose import ColumnTransformer\n",
    "from sklearn.preprocessing import OneHotEncoder\n",
    "from sklearn.pipeline import Pipeline\n",
    "from sklearn.metrics import mean_squared_error\n",
    "\n",
    "# Load the dataset\n",
    "startup_data = pd.read_csv('50_Startups.csv')\n",
    "\n",
    "# Separate features and target variable\n",
    "X = startup_data.drop(columns=[\"Profit\"])\n",
    "y = startup_data[\"Profit\"]\n",
    "\n",
    "# Split the dataset into training and testing sets\n",
    "X_train, X_test, y_train, y_test = train_test_split(X, y, test_size=0.2, random_state=42)\n",
    "\n",
    "# Define the column transformer to handle categorical variables\n",
    "# In this case, we'll use OneHotEncoder to encode the 'State' column\n",
    "# The rest of the columns will be passed through\n",
    "categorical_features = ['State']\n",
    "numeric_features = list(set(X.columns) - set(categorical_features))\n",
    "\n",
    "preprocessor = ColumnTransformer(\n",
    "    transformers=[\n",
    "        ('num', 'passthrough', numeric_features),\n",
    "        ('cat', OneHotEncoder(), categorical_features)])\n",
    "\n",
    "# Define the pipeline with preprocessing and the model\n",
    "pipeline = Pipeline(steps=[('preprocessor', preprocessor),\n",
    "                           ('model', LinearRegression())])\n",
    "\n",
    "# Train the model\n",
    "pipeline.fit(X_train, y_train)\n",
    "\n",
    "# Evaluate the model\n",
    "train_rmse = mean_squared_error(y_train, pipeline.predict(X_train), squared=False)\n",
    "test_rmse = mean_squared_error(y_test, pipeline.predict(X_test), squared=False)\n",
    "\n",
    "print(\"Training RMSE:\", train_rmse)\n",
    "print(\"Testing RMSE:\", test_rmse)\n"
   ]
  },
  {
   "cell_type": "code",
   "execution_count": null,
   "id": "f2132541-536b-4261-8ae1-c31e55558c52",
   "metadata": {},
   "outputs": [],
   "source": []
  }
 ],
 "metadata": {
  "kernelspec": {
   "display_name": "Python 3 (ipykernel)",
   "language": "python",
   "name": "python3"
  },
  "language_info": {
   "codemirror_mode": {
    "name": "ipython",
    "version": 3
   },
   "file_extension": ".py",
   "mimetype": "text/x-python",
   "name": "python",
   "nbconvert_exporter": "python",
   "pygments_lexer": "ipython3",
   "version": "3.12.0"
  }
 },
 "nbformat": 4,
 "nbformat_minor": 5
}
