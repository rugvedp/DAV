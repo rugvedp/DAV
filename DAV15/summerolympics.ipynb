{
 "cells": [
  {
   "cell_type": "code",
   "execution_count": 9,
   "metadata": {},
   "outputs": [
    {
     "name": "stdout",
     "output_type": "stream",
     "text": [
      "   ID                      Name Sex   Age  Height  Weight            Team  \\\n",
      "0   1                 A Dijiang   M  24.0   180.0    80.0           China   \n",
      "1   2                  A Lamusi   M  23.0   170.0    60.0           China   \n",
      "2   3       Gunnar Nielsen Aaby   M  24.0     NaN     NaN         Denmark   \n",
      "3   4      Edgar Lindenau Aabye   M  34.0     NaN     NaN  Denmark/Sweden   \n",
      "4   5  Christine Jacoba Aaftink   F  21.0   185.0    82.0     Netherlands   \n",
      "\n",
      "   NOC        Games  Year  Season       City          Sport  \\\n",
      "0  CHN  1992 Summer  1992  Summer  Barcelona     Basketball   \n",
      "1  CHN  2012 Summer  2012  Summer     London           Judo   \n",
      "2  DEN  1920 Summer  1920  Summer  Antwerpen       Football   \n",
      "3  DEN  1900 Summer  1900  Summer      Paris     Tug-Of-War   \n",
      "4  NED  1988 Winter  1988  Winter    Calgary  Speed Skating   \n",
      "\n",
      "                              Event Medal  \n",
      "0       Basketball Men's Basketball   NaN  \n",
      "1      Judo Men's Extra-Lightweight   NaN  \n",
      "2           Football Men's Football   NaN  \n",
      "3       Tug-Of-War Men's Tug-Of-War  Gold  \n",
      "4  Speed Skating Women's 500 metres   NaN  \n",
      "Country with the most Gold medals in each Olympics:\n",
      "    Year       Most Gold Medals\n",
      "0   1896        (1896, Germany)\n",
      "1   1900         (1900, France)\n",
      "2   1904  (1904, United States)\n",
      "3   1906         (1906, France)\n",
      "4   1908  (1908, Great Britain)\n",
      "5   1912         (1912, Sweden)\n",
      "6   1920  (1920, United States)\n",
      "7   1924  (1924, United States)\n",
      "8   1928  (1928, United States)\n",
      "9   1932  (1932, United States)\n",
      "10  1936        (1936, Germany)\n",
      "11  1948  (1948, United States)\n",
      "12  1952  (1952, United States)\n",
      "13  1956   (1956, Soviet Union)\n",
      "14  1960  (1960, United States)\n",
      "15  1964  (1964, United States)\n",
      "16  1968  (1968, United States)\n",
      "17  1972   (1972, Soviet Union)\n",
      "18  1976   (1976, Soviet Union)\n",
      "19  1980   (1980, Soviet Union)\n",
      "20  1984  (1984, United States)\n",
      "21  1988   (1988, Soviet Union)\n",
      "22  1992   (1992, Unified Team)\n",
      "23  1994         (1994, Sweden)\n",
      "24  1996  (1996, United States)\n",
      "25  1998  (1998, United States)\n",
      "26  2000  (2000, United States)\n",
      "27  2002         (2002, Canada)\n",
      "28  2004  (2004, United States)\n",
      "29  2006         (2006, Sweden)\n",
      "30  2008  (2008, United States)\n",
      "31  2010         (2010, Canada)\n",
      "32  2012  (2012, United States)\n",
      "33  2014         (2014, Canada)\n",
      "34  2016  (2016, United States)\n",
      "Number of cities that hosted the Summer Olympics since 1896: 42\n",
      "Number of medals won by women in Summer Olympics: 74522\n",
      "Top 10 Women Athletes with the most Gold Medals:\n",
      "Sport\n",
      "Swimming                493\n",
      "Athletics               428\n",
      "Rowing                  238\n",
      "Gymnastics              234\n",
      "Hockey                  158\n",
      "Volleyball              156\n",
      "Handball                155\n",
      "Basketball              131\n",
      "Fencing                 119\n",
      "Cross Country Skiing    113\n",
      "dtype: int64\n"
     ]
    },
    {
     "ename": "KeyError",
     "evalue": "'CTeam'",
     "output_type": "error",
     "traceback": [
      "\u001b[1;31m---------------------------------------------------------------------------\u001b[0m",
      "\u001b[1;31mKeyError\u001b[0m                                  Traceback (most recent call last)",
      "Cell \u001b[1;32mIn[9], line 29\u001b[0m\n\u001b[0;32m     27\u001b[0m \u001b[38;5;28mprint\u001b[39m(top_women_athletes)\n\u001b[0;32m     28\u001b[0m \u001b[38;5;66;03m# Top 5 countries to win most Gold medals in 2012\u001b[39;00m\n\u001b[1;32m---> 29\u001b[0m top_countries_2012 \u001b[38;5;241m=\u001b[39m summer_df[(summer_df[\u001b[38;5;124m'\u001b[39m\u001b[38;5;124mYear\u001b[39m\u001b[38;5;124m'\u001b[39m] \u001b[38;5;241m==\u001b[39m \u001b[38;5;241m2012\u001b[39m) \u001b[38;5;241m&\u001b[39m (summer_df[\u001b[38;5;124m'\u001b[39m\u001b[38;5;124mMedal\u001b[39m\u001b[38;5;124m'\u001b[39m] \u001b[38;5;241m==\u001b[39m \u001b[38;5;124m'\u001b[39m\u001b[38;5;124mGold\u001b[39m\u001b[38;5;124m'\u001b[39m)]\u001b[38;5;241m.\u001b[39mgroupby(\u001b[38;5;124m'\u001b[39m\u001b[38;5;124mCTeam\u001b[39m\u001b[38;5;124m'\u001b[39m)\u001b[38;5;241m.\u001b[39msize()\u001b[38;5;241m.\u001b[39mnlargest(\u001b[38;5;241m5\u001b[39m)\n\u001b[0;32m     30\u001b[0m \u001b[38;5;28mprint\u001b[39m(\u001b[38;5;124m\"\u001b[39m\u001b[38;5;124mTop 5 countries with the most Gold medals in 2012:\u001b[39m\u001b[38;5;124m\"\u001b[39m)\n\u001b[0;32m     31\u001b[0m \u001b[38;5;28mprint\u001b[39m(top_countries_2012)\n",
      "File \u001b[1;32mc:\\Users\\USER\\anaconda3\\Lib\\site-packages\\pandas\\core\\frame.py:8252\u001b[0m, in \u001b[0;36mDataFrame.groupby\u001b[1;34m(self, by, axis, level, as_index, sort, group_keys, observed, dropna)\u001b[0m\n\u001b[0;32m   8249\u001b[0m     \u001b[38;5;28;01mraise\u001b[39;00m \u001b[38;5;167;01mTypeError\u001b[39;00m(\u001b[38;5;124m\"\u001b[39m\u001b[38;5;124mYou have to supply one of \u001b[39m\u001b[38;5;124m'\u001b[39m\u001b[38;5;124mby\u001b[39m\u001b[38;5;124m'\u001b[39m\u001b[38;5;124m and \u001b[39m\u001b[38;5;124m'\u001b[39m\u001b[38;5;124mlevel\u001b[39m\u001b[38;5;124m'\u001b[39m\u001b[38;5;124m\"\u001b[39m)\n\u001b[0;32m   8250\u001b[0m axis \u001b[38;5;241m=\u001b[39m \u001b[38;5;28mself\u001b[39m\u001b[38;5;241m.\u001b[39m_get_axis_number(axis)\n\u001b[1;32m-> 8252\u001b[0m \u001b[38;5;28;01mreturn\u001b[39;00m DataFrameGroupBy(\n\u001b[0;32m   8253\u001b[0m     obj\u001b[38;5;241m=\u001b[39m\u001b[38;5;28mself\u001b[39m,\n\u001b[0;32m   8254\u001b[0m     keys\u001b[38;5;241m=\u001b[39mby,\n\u001b[0;32m   8255\u001b[0m     axis\u001b[38;5;241m=\u001b[39maxis,\n\u001b[0;32m   8256\u001b[0m     level\u001b[38;5;241m=\u001b[39mlevel,\n\u001b[0;32m   8257\u001b[0m     as_index\u001b[38;5;241m=\u001b[39mas_index,\n\u001b[0;32m   8258\u001b[0m     sort\u001b[38;5;241m=\u001b[39msort,\n\u001b[0;32m   8259\u001b[0m     group_keys\u001b[38;5;241m=\u001b[39mgroup_keys,\n\u001b[0;32m   8260\u001b[0m     observed\u001b[38;5;241m=\u001b[39mobserved,\n\u001b[0;32m   8261\u001b[0m     dropna\u001b[38;5;241m=\u001b[39mdropna,\n\u001b[0;32m   8262\u001b[0m )\n",
      "File \u001b[1;32mc:\\Users\\USER\\anaconda3\\Lib\\site-packages\\pandas\\core\\groupby\\groupby.py:931\u001b[0m, in \u001b[0;36mGroupBy.__init__\u001b[1;34m(self, obj, keys, axis, level, grouper, exclusions, selection, as_index, sort, group_keys, observed, dropna)\u001b[0m\n\u001b[0;32m    928\u001b[0m \u001b[38;5;28mself\u001b[39m\u001b[38;5;241m.\u001b[39mdropna \u001b[38;5;241m=\u001b[39m dropna\n\u001b[0;32m    930\u001b[0m \u001b[38;5;28;01mif\u001b[39;00m grouper \u001b[38;5;129;01mis\u001b[39;00m \u001b[38;5;28;01mNone\u001b[39;00m:\n\u001b[1;32m--> 931\u001b[0m     grouper, exclusions, obj \u001b[38;5;241m=\u001b[39m get_grouper(\n\u001b[0;32m    932\u001b[0m         obj,\n\u001b[0;32m    933\u001b[0m         keys,\n\u001b[0;32m    934\u001b[0m         axis\u001b[38;5;241m=\u001b[39maxis,\n\u001b[0;32m    935\u001b[0m         level\u001b[38;5;241m=\u001b[39mlevel,\n\u001b[0;32m    936\u001b[0m         sort\u001b[38;5;241m=\u001b[39msort,\n\u001b[0;32m    937\u001b[0m         observed\u001b[38;5;241m=\u001b[39mobserved,\n\u001b[0;32m    938\u001b[0m         dropna\u001b[38;5;241m=\u001b[39m\u001b[38;5;28mself\u001b[39m\u001b[38;5;241m.\u001b[39mdropna,\n\u001b[0;32m    939\u001b[0m     )\n\u001b[0;32m    941\u001b[0m \u001b[38;5;28mself\u001b[39m\u001b[38;5;241m.\u001b[39mobj \u001b[38;5;241m=\u001b[39m obj\n\u001b[0;32m    942\u001b[0m \u001b[38;5;28mself\u001b[39m\u001b[38;5;241m.\u001b[39maxis \u001b[38;5;241m=\u001b[39m obj\u001b[38;5;241m.\u001b[39m_get_axis_number(axis)\n",
      "File \u001b[1;32mc:\\Users\\USER\\anaconda3\\Lib\\site-packages\\pandas\\core\\groupby\\grouper.py:985\u001b[0m, in \u001b[0;36mget_grouper\u001b[1;34m(obj, key, axis, level, sort, observed, validate, dropna)\u001b[0m\n\u001b[0;32m    983\u001b[0m         in_axis, level, gpr \u001b[38;5;241m=\u001b[39m \u001b[38;5;28;01mFalse\u001b[39;00m, gpr, \u001b[38;5;28;01mNone\u001b[39;00m\n\u001b[0;32m    984\u001b[0m     \u001b[38;5;28;01melse\u001b[39;00m:\n\u001b[1;32m--> 985\u001b[0m         \u001b[38;5;28;01mraise\u001b[39;00m \u001b[38;5;167;01mKeyError\u001b[39;00m(gpr)\n\u001b[0;32m    986\u001b[0m \u001b[38;5;28;01melif\u001b[39;00m \u001b[38;5;28misinstance\u001b[39m(gpr, Grouper) \u001b[38;5;129;01mand\u001b[39;00m gpr\u001b[38;5;241m.\u001b[39mkey \u001b[38;5;129;01mis\u001b[39;00m \u001b[38;5;129;01mnot\u001b[39;00m \u001b[38;5;28;01mNone\u001b[39;00m:\n\u001b[0;32m    987\u001b[0m     \u001b[38;5;66;03m# Add key to exclusions\u001b[39;00m\n\u001b[0;32m    988\u001b[0m     exclusions\u001b[38;5;241m.\u001b[39madd(gpr\u001b[38;5;241m.\u001b[39mkey)\n",
      "\u001b[1;31mKeyError\u001b[0m: 'CTeam'"
     ]
    }
   ],
   "source": [
    "# Import necessary libraries\n",
    "import pandas as pd\n",
    "import matplotlib.pyplot as plt\n",
    "\n",
    "# Load the dataset\n",
    "summer_df = pd.read_csv('summer.csv')\n",
    "\n",
    "# Check the first few rows of the dataset\n",
    "print(summer_df.head())\n",
    "\n",
    "# Which country won the most Gold medals, in each of the Olympics?\n",
    "most_gold_medals = summer_df[summer_df['Medal'] == 'Gold'].groupby(['Year', 'Team']).size().groupby('Year').idxmax().reset_index(name='Most Gold Medals')\n",
    "print(\"Country with the most Gold medals in each Olympics:\")\n",
    "print(most_gold_medals)\n",
    "\n",
    "# How many cities hosted the Summer Olympics games, since 1896?\n",
    "num_cities = summer_df['City'].nunique()\n",
    "print(\"Number of cities that hosted the Summer Olympics since 1896:\", num_cities)\n",
    "\n",
    "# How many medals were won by women in Summer Olympics?\n",
    "women_medals = summer_df[summer_df['Sex'] == 'F'].shape[0]\n",
    "print(\"Number of medals won by women in Summer Olympics:\", women_medals)\n",
    "\n",
    "# Top 10 Women Athletes - Gold Medals\n",
    "top_women_athletes = summer_df[(summer_df['Sex'] == 'F') & (summer_df['Medal'] == 'Gold')].groupby('Sport').size().nlargest(10)\n",
    "print(\"Top 10 Women Athletes with the most Gold Medals:\")\n",
    "print(top_women_athletes)\n",
    "# Top 5 countries to win most Gold medals in 2012\n",
    "top_countries_2012 = summer_df[(summer_df['Year'] == 2012) & (summer_df['Medal'] == 'Gold')].groupby('Team').size().nlargest(5)\n",
    "print(\"Top 5 countries with the most Gold medals in 2012:\")\n",
    "print(top_countries_2012)\n",
    "\n",
    "# Let us find out which year the sport was inducted into Olympics\n",
    "sport_induction_year = summer_df.groupby('Sport')['Year'].min().reset_index(name='Induction Year')\n",
    "print(\"Year in which each sport was inducted into Olympics:\")\n",
    "print(sport_induction_year)\n",
    "\n",
    "# Data Visualization\n",
    "# You can create visualizations based on the analysis above using matplotlib or seaborn\n",
    "# For example:\n",
    "# Bar plot for top 5 countries with the most Gold medals in 2012\n",
    "plt.figure(figsize=(10, 6))\n",
    "top_countries_2012.plot(kind='bar', color='gold')\n",
    "plt.title('Top 5 Countries with the Most Gold Medals in 2012')\n",
    "plt.xlabel('Country')\n",
    "plt.ylabel('Number of Gold Medals')\n",
    "plt.xticks(rotation=45)\n",
    "plt.show()\n"
   ]
  },
  {
   "cell_type": "code",
   "execution_count": null,
   "metadata": {},
   "outputs": [],
   "source": [
    "# How many cities hosted the Summer Olympics games, since 1896?\n",
    "num_cities = summer_df['City'].nunique()\n",
    "print(\"Number of cities that hosted the Summer Olympics since 1896:\", num_cities)"
   ]
  },
  {
   "cell_type": "code",
   "execution_count": null,
   "metadata": {},
   "outputs": [],
   "source": [
    "# How many medals were won by women in Summer Olympics?\n",
    "women_medals = summer_df[summer_df['Sex'] == 'F'].shape[0]\n",
    "print(\"Number of medals won by women in Summer Olympics:\", women_medals)"
   ]
  },
  {
   "cell_type": "code",
   "execution_count": null,
   "metadata": {},
   "outputs": [],
   "source": [
    "# Top 10 Women Athletes - Gold Medals\n",
    "top_women_athletes = summer_df[(summer_df['Sex'] == 'F') & (summer_df['Medal'] == 'Gold')].groupby('Sport').size().nlargest(10)\n",
    "print(\"Top 10 Women Athletes with the most Gold Medals:\")\n",
    "print(top_women_athletes)"
   ]
  },
  {
   "cell_type": "code",
   "execution_count": null,
   "metadata": {},
   "outputs": [],
   "source": [
    "# Top 5 countries to win most Gold medals in 2012\n",
    "top_countries_2012 = summer_df[(summer_df['Year'] == 2012) & (summer_df['Medal'] == 'Gold')].groupby('Team').size().nlargest(5)\n",
    "print(\"Top 5 countries with the most Gold medals in 2012:\")\n",
    "print(top_countries_2012)"
   ]
  },
  {
   "cell_type": "code",
   "execution_count": null,
   "metadata": {},
   "outputs": [],
   "source": []
  }
 ],
 "metadata": {
  "kernelspec": {
   "display_name": "Python 3 (ipykernel)",
   "language": "python",
   "name": "python3"
  },
  "language_info": {
   "codemirror_mode": {
    "name": "ipython",
    "version": 3
   },
   "file_extension": ".py",
   "mimetype": "text/x-python",
   "name": "python",
   "nbconvert_exporter": "python",
   "pygments_lexer": "ipython3",
   "version": "3.12.0"
  }
 },
 "nbformat": 4,
 "nbformat_minor": 4
}
